{
 "cells": [
  {
   "cell_type": "code",
   "execution_count": 6,
   "metadata": {},
   "outputs": [
    {
     "name": "stdout",
     "output_type": "stream",
     "text": [
      "['https://www.paulgraham.com/greatwork.html', 'https://www.paulgraham.com/kids.html', 'https://www.paulgraham.com/selfindulgence.html', 'https://www.paulgraham.com/field.html', 'https://www.paulgraham.com/goodwriting.html', 'https://www.paulgraham.com/do.html', 'https://www.paulgraham.com/woke.html', 'https://www.paulgraham.com/writes.html', 'https://www.paulgraham.com/when.html', 'https://www.paulgraham.com/foundermode.html', 'https://www.paulgraham.com/persistence.html', 'https://www.paulgraham.com/reddits.html', 'https://www.paulgraham.com/google.html', 'https://www.paulgraham.com/best.html', 'https://www.paulgraham.com/superlinear.html', 'https://www.paulgraham.com/getideas.html', 'https://www.paulgraham.com/read.html', 'https://www.paulgraham.com/want.html', 'https://www.paulgraham.com/alien.html', 'https://www.paulgraham.com/users.html', 'https://www.paulgraham.com/heresy.html', 'https://www.paulgraham.com/words.html', 'https://www.paulgraham.com/goodtaste.html', 'https://www.paulgraham.com/smart.html', 'https://www.paulgraham.com/weird.html', 'https://www.paulgraham.com/hwh.html', 'https://www.paulgraham.com/own.html', 'https://www.paulgraham.com/fn.html', 'https://www.paulgraham.com/newideas.html', 'https://www.paulgraham.com/nft.html', 'https://www.paulgraham.com/real.html', 'https://www.paulgraham.com/richnow.html', 'https://www.paulgraham.com/simply.html', 'https://www.paulgraham.com/donate.html', 'https://www.paulgraham.com/worked.html', 'https://www.paulgraham.com/earnest.html', 'https://www.paulgraham.com/ace.html', 'https://www.paulgraham.com/airbnbs.html', 'https://www.paulgraham.com/think.html', 'https://www.paulgraham.com/early.html', 'https://www.paulgraham.com/wtax.html', 'https://www.paulgraham.com/conformism.html', 'https://www.paulgraham.com/orth.html', 'https://www.paulgraham.com/cred.html', 'https://www.paulgraham.com/useful.html', 'https://www.paulgraham.com/noob.html', 'https://www.paulgraham.com/fh.html', 'https://www.paulgraham.com/mod.html', 'https://www.paulgraham.com/fp.html', 'https://www.paulgraham.com/lesson.html', 'https://www.paulgraham.com/nov.html', 'https://www.paulgraham.com/genius.html', 'https://www.paulgraham.com/sun.html', 'https://www.paulgraham.com/pow.html', 'https://www.paulgraham.com/disc.html', 'https://www.paulgraham.com/pgh.html', 'https://www.paulgraham.com/vb.html', 'https://www.paulgraham.com/ineq.html', 'https://www.paulgraham.com/re.html', 'https://www.paulgraham.com/jessica.html', 'https://www.paulgraham.com/bias.html', 'https://www.paulgraham.com/talk.html', 'https://www.paulgraham.com/aord.html', 'https://www.paulgraham.com/safe.html', 'https://www.paulgraham.com/name.html', 'https://www.paulgraham.com/altair.html', 'https://www.paulgraham.com/ronco.html', 'https://www.paulgraham.com/work.html', 'https://www.paulgraham.com/corpdev.html', 'https://www.paulgraham.com/95.html', 'https://www.paulgraham.com/ecw.html', 'https://www.paulgraham.com/know.html', 'https://www.paulgraham.com/pinch.html', 'https://www.paulgraham.com/mean.html', 'https://www.paulgraham.com/before.html', 'https://www.paulgraham.com/fr.html', 'https://www.paulgraham.com/herd.html', 'https://www.paulgraham.com/convince.html', 'https://www.paulgraham.com/ds.html', 'https://www.paulgraham.com/invtrend.html', 'https://www.paulgraham.com/startupideas.html', 'https://www.paulgraham.com/hw.html', 'https://www.paulgraham.com/growth.html', 'https://www.paulgraham.com/swan.html', 'https://www.paulgraham.com/todo.html', 'https://www.paulgraham.com/speak.html', 'https://www.paulgraham.com/ycstart.html', 'https://www.paulgraham.com/property.html', 'https://www.paulgraham.com/ambitious.html', 'https://www.paulgraham.com/word.html', 'https://www.paulgraham.com/schlep.html', 'https://www.paulgraham.com/vw.html', 'https://www.paulgraham.com/hubs.html', 'https://www.paulgraham.com/patentpledge.html', 'https://www.paulgraham.com/airbnb.html', 'https://www.paulgraham.com/control.html', 'https://www.paulgraham.com/tablets.html', 'https://www.paulgraham.com/founders.html', 'https://www.paulgraham.com/superangels.html', 'https://www.paulgraham.com/seesv.html', 'https://www.paulgraham.com/hiresfund.html', 'https://www.paulgraham.com/yahoo.html', 'https://www.paulgraham.com/future.html', 'https://www.paulgraham.com/addiction.html', 'https://www.paulgraham.com/top.html', 'https://www.paulgraham.com/organic.html', 'https://www.paulgraham.com/apple.html', 'https://www.paulgraham.com/really.html', 'https://www.paulgraham.com/discover.html', 'https://www.paulgraham.com/publishing.html', 'https://www.paulgraham.com/nthings.html', 'https://www.paulgraham.com/determination.html', 'https://www.paulgraham.com/kate.html', 'https://www.paulgraham.com/segway.html', 'https://www.paulgraham.com/ramenprofitable.html', 'https://www.paulgraham.com/makersschedule.html', 'https://www.paulgraham.com/revolution.html', 'https://www.paulgraham.com/twitter.html', 'https://www.paulgraham.com/foundervisa.html', 'https://www.paulgraham.com/5founders.html', 'https://www.paulgraham.com/relres.html', 'https://www.paulgraham.com/angelinvesting.html', 'https://www.paulgraham.com/convergence.html', 'https://www.paulgraham.com/maybe.html', 'https://www.paulgraham.com/hackernews.html', 'https://www.paulgraham.com/13sentences.html', 'https://www.paulgraham.com/identity.html', 'https://www.paulgraham.com/credentials.html', 'https://www.paulgraham.com/divergence.html', 'https://www.paulgraham.com/highres.html', 'https://www.paulgraham.com/artistsship.html', 'https://www.paulgraham.com/badeconomy.html', 'https://www.paulgraham.com/fundraising.html', 'https://www.paulgraham.com/prcmc.html', 'https://www.paulgraham.com/cities.html', 'https://www.paulgraham.com/distraction.html', 'https://www.paulgraham.com/lies.html', 'https://www.paulgraham.com/good.html', 'https://www.paulgraham.com/googles.html', 'https://www.paulgraham.com/heroes.html', 'https://www.paulgraham.com/disagree.html', 'https://www.paulgraham.com/boss.html', 'https://www.paulgraham.com/ycombinator.html', 'https://www.paulgraham.com/trolls.html', 'https://www.paulgraham.com/newthings.html', 'https://www.paulgraham.com/startuphubs.html', 'https://www.paulgraham.com/webstartups.html', 'https://www.paulgraham.com/philosophy.html', 'https://www.paulgraham.com/colleges.html', 'https://www.paulgraham.com/die.html', 'https://www.paulgraham.com/head.html', 'https://www.paulgraham.com/stuff.html', 'https://www.paulgraham.com/equity.html', 'https://www.paulgraham.com/unions.html', 'https://www.paulgraham.com/guidetoinvestors.html', 'https://www.paulgraham.com/judgement.html', 'https://www.paulgraham.com/microsoft.html', 'https://www.paulgraham.com/notnot.html', 'https://www.paulgraham.com/wisdom.html', 'https://www.paulgraham.com/foundersatwork.html', 'https://www.paulgraham.com/goodart.html', 'https://www.paulgraham.com/startupmistakes.html', 'https://www.paulgraham.com/mit.html', 'https://www.paulgraham.com/investors.html', 'https://www.paulgraham.com/copy.html', 'https://www.paulgraham.com/island.html', 'https://www.paulgraham.com/marginal.html', 'https://www.paulgraham.com/america.html', 'https://www.paulgraham.com/siliconvalley.html', 'https://www.paulgraham.com/startuplessons.html', 'https://www.paulgraham.com/randomness.html', 'https://www.paulgraham.com/softwarepatents.html', 'https://www.paulgraham.com/6631327.html', 'https://www.paulgraham.com/whyyc.html', 'https://www.paulgraham.com/love.html', 'https://www.paulgraham.com/procrastination.html', 'https://www.paulgraham.com/web20.html', 'https://www.paulgraham.com/startupfunding.html', 'https://www.paulgraham.com/vcsqueeze.html', 'https://www.paulgraham.com/ideas.html', 'https://www.paulgraham.com/sfp.html', 'https://www.paulgraham.com/inequality.html', 'https://www.paulgraham.com/ladder.html', 'https://www.paulgraham.com/opensource.html', 'https://www.paulgraham.com/hiring.html', 'https://www.paulgraham.com/submarine.html', 'https://www.paulgraham.com/bronze.html', 'https://www.paulgraham.com/mac.html', 'https://www.paulgraham.com/writing44.html', 'https://www.paulgraham.com/college.html', 'https://www.paulgraham.com/venturecapital.html', 'https://www.paulgraham.com/start.html', 'https://www.paulgraham.com/hs.html', 'https://www.paulgraham.com/usa.html', 'https://www.paulgraham.com/charisma.html', 'https://www.paulgraham.com/polls.html', 'https://www.paulgraham.com/laundry.html', 'https://www.paulgraham.com/bubble.html', 'https://www.paulgraham.com/essay.html', 'https://www.paulgraham.com/pypar.html', 'https://www.paulgraham.com/gh.html', 'https://www.paulgraham.com/gap.html', 'https://www.paulgraham.com/wealth.html', 'https://www.paulgraham.com/gba.html', 'https://www.paulgraham.com/say.html', 'https://www.paulgraham.com/ffb.html', 'https://www.paulgraham.com/hp.html', 'https://www.paulgraham.com/iflisp.html', 'https://www.paulgraham.com/hundred.html', 'https://www.paulgraham.com/nerds.html', 'https://www.paulgraham.com/better.html', 'https://www.paulgraham.com/desres.html', 'https://www.paulgraham.com/spam.html', 'https://www.paulgraham.com/icad.html', 'https://www.paulgraham.com/power.html', 'https://www.paulgraham.com/fix.html', 'https://www.paulgraham.com/taste.html', 'https://www.paulgraham.com/noop.html', 'https://www.paulgraham.com/diff.html', 'https://www.paulgraham.com/road.html', 'https://www.paulgraham.com/rootsoflisp.html', 'https://www.paulgraham.com/langdes.html', 'https://www.paulgraham.com/popular.html', 'https://www.paulgraham.com/javacover.html', 'https://www.paulgraham.com/avg.html', 'https://www.paulgraham.com/lwba.html', 'https://www.paulgraham.com/progbot.html', 'https://www.paulgraham.com/prop62.html']\n"
     ]
    }
   ],
   "source": [
    "import json\n",
    "\n",
    "file_path = \"links.txt\"\n",
    "\n",
    "base_url = \"https://www.paulgraham.com/\"\n",
    "\n",
    "with open(file_path) as f:\n",
    "    links = json.load(f)\n",
    "\n",
    "full_links = [base_url + link for link in links]\n",
    "\n",
    "print(full_links)"
   ]
  },
  {
   "cell_type": "code",
   "execution_count": 7,
   "metadata": {},
   "outputs": [],
   "source": [
    "from dotenv import load_dotenv\n",
    "import os\n",
    "\n",
    "load_dotenv()\n",
    "\n",
    "huggingfacehub_api_token = os.getenv(\"HUGGINGFACEHUB_API_TOKEN\")"
   ]
  },
  {
   "cell_type": "code",
   "execution_count": 8,
   "metadata": {},
   "outputs": [],
   "source": [
    "from langchain.chat_models import init_chat_model\n",
    "\n",
    "llm = init_chat_model(\"gemini-2.5-flash\", model_provider=\"google_genai\")"
   ]
  },
  {
   "cell_type": "code",
   "execution_count": 9,
   "metadata": {},
   "outputs": [],
   "source": [
    "from langchain_google_genai import GoogleGenerativeAIEmbeddings\n",
    "\n",
    "embeddings = GoogleGenerativeAIEmbeddings(model=\"models/gemini-embedding-001\")"
   ]
  },
  {
   "cell_type": "code",
   "execution_count": 14,
   "metadata": {},
   "outputs": [
    {
     "name": "stderr",
     "output_type": "stream",
     "text": [
      "/home/bytehead/projects/temp/rag/.venv/lib/python3.13/site-packages/tqdm/auto.py:21: TqdmWarning: IProgress not found. Please update jupyter and ipywidgets. See https://ipywidgets.readthedocs.io/en/stable/user_install.html\n",
      "  from .autonotebook import tqdm as notebook_tqdm\n"
     ]
    }
   ],
   "source": [
    "from langchain_huggingface import HuggingFaceEmbeddings\n",
    "\n",
    "hf = HuggingFaceEmbeddings(\n",
    "    model_name=\"sentence-transformers/all-mpnet-base-v2\",\n",
    ")"
   ]
  },
  {
   "cell_type": "code",
   "execution_count": 15,
   "metadata": {},
   "outputs": [],
   "source": [
    "from langchain_chroma import Chroma\n",
    "\n",
    "vector_store = Chroma(\n",
    "    collection_name=\"PG_essays\",\n",
    "    embedding_function=hf,\n",
    "    persist_directory=\"./chroma_langchain_db\",  # Where to save data locally, remove if not necessary\n",
    ")"
   ]
  },
  {
   "cell_type": "code",
   "execution_count": 16,
   "metadata": {},
   "outputs": [
    {
     "name": "stdout",
     "output_type": "stream",
     "text": [
      "Loaded 5444 chunks from 228 documents.\n"
     ]
    }
   ],
   "source": [
    "import bs4\n",
    "from langchain import hub\n",
    "from langchain_community.document_loaders import WebBaseLoader\n",
    "from langchain_core.documents import Document\n",
    "from langchain_text_splitters import RecursiveCharacterTextSplitter\n",
    "from langgraph.graph import START, StateGraph\n",
    "from typing_extensions import List, TypedDict\n",
    "from datetime import datetime\n",
    "\n",
    "# Load and chunk contents of the blog\n",
    "loader = WebBaseLoader(\n",
    "    web_paths=full_links,\n",
    "    bs_kwargs=dict(\n",
    "        parse_only=bs4.SoupStrainer(\n",
    "            [\"title\", \"body\"]\n",
    "        )\n",
    "    ),\n",
    ")\n",
    "try:\n",
    "    docs = loader.load()\n",
    "    for doc in docs:\n",
    "        doc.metadata[\"chunk_source\"] = \"web scraping\"\n",
    "        doc.metadata[\"processing_date\"] = str(datetime.now())\n",
    "    text_splitter = RecursiveCharacterTextSplitter(chunk_size=800, chunk_overlap=200)\n",
    "    all_splits = text_splitter.split_documents(docs)\n",
    "    print(f\"Loaded {len(all_splits)} chunks from {len(docs)} documents.\")\n",
    "except Exception as e:\n",
    "    print(f\"An error occurred while loading or processing documents: {e}\")\n",
    "\n",
    "# Index chunks\n",
    "_ = vector_store.add_documents(documents=all_splits)\n",
    "\n",
    "# Define prompt for question-answering\n",
    "# N.B. for non-US LangSmith endpoints, you may need to specify\n",
    "# api_url=\"https://api.smith.langchain.com\" in hub.pull.\n",
    "prompt = hub.pull(\"rlm/rag-prompt\")\n",
    "\n",
    "\n",
    "# Define state for application\n",
    "class State(TypedDict):\n",
    "    question: str\n",
    "    context: List[Document]\n",
    "    answer: str\n",
    "\n",
    "\n",
    "# Define application steps\n",
    "def retrieve(state: State):\n",
    "    retrieved_docs = vector_store.similarity_search(state[\"question\"])\n",
    "    return {\"context\": retrieved_docs}\n",
    "\n",
    "\n",
    "def generate(state: State):\n",
    "    docs_content = \"\\n\\n\".join(doc.page_content for doc in state[\"context\"])\n",
    "    messages = prompt.invoke({\"question\": state[\"question\"], \"context\": docs_content})\n",
    "    response = llm.invoke(messages)\n",
    "    return {\"answer\": response.content}\n",
    "\n",
    "\n",
    "# Compile application and test\n",
    "graph_builder = StateGraph(State).add_sequence([retrieve, generate])\n",
    "graph_builder.add_edge(START, \"retrieve\")\n",
    "graph = graph_builder.compile()"
   ]
  },
  {
   "cell_type": "code",
   "execution_count": 17,
   "metadata": {},
   "outputs": [
    {
     "name": "stdout",
     "output_type": "stream",
     "text": [
      "Startups primarily fail because they do not make something users want. If a startup creates a product or service that users desire, it is likely to succeed regardless of other factors. Conversely, if they don't, failure is almost certain, as nearly all other reasons for failure funnel through this core issue.\n"
     ]
    }
   ],
   "source": [
    "response = graph.invoke({\"question\": \"Why do startups fail?\"})\n",
    "print(response[\"answer\"])"
   ]
  },
  {
   "cell_type": "code",
   "execution_count": 18,
   "metadata": {},
   "outputs": [
    {
     "name": "stdout",
     "output_type": "stream",
     "text": [
      "{'question': 'Why do startups fail?', 'context': [Document(id='35c429c7-8f38-425f-a045-dcfec3699e30', metadata={'processing_date': '2025-08-23 16:13:42.600490', 'chunk_source': 'web scraping', 'source': 'https://www.paulgraham.com/startupmistakes.html', 'title': 'The 18 Mistakes That Kill Startups'}, page_content=\"It's easier to catch yourself doing something you shouldn't than\\nalways to remember to do something you should.\\n[1]In a sense there's just one mistake that kills startups: not making\\nsomething users want.  If you make something users want, you'll\\nprobably be fine, whatever else you do or don't do.  And if you\\ndon't make something users want, then you're dead, whatever else\\nyou do or don't do.  So really this is a list of 18 things that\\ncause startups not to make something users want.  Nearly all failure\\nfunnels through that.1. Single FounderHave you ever noticed how few successful startups were founded by\\njust one person?  Even companies you think of as having one founder,\\nlike Oracle, usually turn out to have more.  It seems unlikely this\"), Document(id='ba1837f2-a66e-4517-b278-7d98a0edbb58', metadata={'source': 'https://www.paulgraham.com/safe.html', 'title': \"Why It's Safe for Founders to Be Nice\", 'chunk_source': 'web scraping', 'processing_date': '2025-08-23 16:13:42.600339'}, page_content='for startups to die\\nfrom running through their initial funding and then being unable\\nto raise more, the underlying cause is usually slow growth or\\nexcessive spending rather than insufficient effort to extract money\\nfrom existing customers.Thanks to Sam Altman, Harj Taggar, Jessica Livingston, and\\nGeoff Ralston for reading drafts of this, and to Randall Bennett\\nfor being such a nice guy.'), Document(id='652dc88a-7f2c-4342-8f5f-fd16ad632ab9', metadata={'title': 'How to Fund a Startup', 'processing_date': '2025-08-23 16:13:42.600515', 'chunk_source': 'web scraping', 'source': 'https://www.paulgraham.com/startupfunding.html'}, page_content=\"isn't returning your phone calls, you can at least take comfort in\\nthe thought that the same thing is happening to other deals a hundred\\ntimes the size.The example of a startup's history that I've presented is like a\\nskeleton—accurate so far as it goes, but needing to be fleshed\\nout to be a complete picture.  To get a complete picture, just add\\nin every possible disaster.A frightening prospect?  In a way.  And yet also in a way encouraging.\\nThe very uncertainty of startups frightens away almost everyone.\\nPeople overvalue stability—especially young\\npeople, who ironically need it least.  And so in starting a startup,\\nas in any really bold undertaking, merely deciding to do it gets\\nyou halfway there.  On the day of the race, most of the other runners\\nwon't show up.\\nNotes[1]\"), Document(id='4f1643ff-873c-43e0-800d-3d225fd9fdee', metadata={'source': 'https://www.paulgraham.com/start.html', 'chunk_source': 'web scraping', 'processing_date': '2025-08-23 16:13:42.600536', 'title': 'How to Start a Startup'}, page_content=\"businesses that fail do it because they don't give customers what\\nthey want.  Look at restaurants.  A large percentage fail, about a\\nquarter in the first year.  But can you think of one restaurant\\nthat had really good food and went out of business?Restaurants with great food seem to prosper no matter what.  A    \\nrestaurant with great food can be expensive, crowded, noisy, dingy,\\nout of the way, and even have bad service, and people will keep\\ncoming.  It's true that a restaurant with mediocre food can sometimes \\nattract customers through gimmicks.  But that approach is very  \\nrisky.  It's more straightforward just to make the food good.It's the same with technology.  You hear all kinds of reasons why\\nstartups fail.  But can you think of one that had a massively popular\")], 'answer': \"Startups primarily fail because they do not make something users want. If a startup creates a product or service that users desire, it is likely to succeed regardless of other factors. Conversely, if they don't, failure is almost certain, as nearly all other reasons for failure funnel through this core issue.\"}\n"
     ]
    }
   ],
   "source": [
    "print(response)"
   ]
  }
 ],
 "metadata": {
  "kernelspec": {
   "display_name": "rag",
   "language": "python",
   "name": "python3"
  },
  "language_info": {
   "codemirror_mode": {
    "name": "ipython",
    "version": 3
   },
   "file_extension": ".py",
   "mimetype": "text/x-python",
   "name": "python",
   "nbconvert_exporter": "python",
   "pygments_lexer": "ipython3",
   "version": "3.13.7"
  }
 },
 "nbformat": 4,
 "nbformat_minor": 2
}
